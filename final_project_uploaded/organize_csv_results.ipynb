{
 "cells": [
  {
   "cell_type": "code",
   "execution_count": 5,
   "metadata": {},
   "outputs": [],
   "source": [
    "import pandas as pd\n",
    "import numpy as np"
   ]
  },
  {
   "cell_type": "code",
   "execution_count": null,
   "metadata": {},
   "outputs": [
    {
     "name": "stdout",
     "output_type": "stream",
     "text": [
      "  participant_name  question_number                          question  \\\n",
      "0               w1                1                     他们见到的第一位生肖是谁?   \n",
      "1               w1                2                 这里面介绍的人物中没有哪一个职业?   \n",
      "2               w1                3  仓库寻道这个游戏中，要求是几分钟内找到道(那一颗需要收集的球)?   \n",
      "3               w1                4                 人猪说它之前都是靠什么来过日子的?   \n",
      "4               w1                5                   视频中曾解开的一次密码是什么?   \n",
      "5               w1                6                   以下选项中没有出现过的游戏是?   \n",
      "6               w1                7                掌管游戏 木牛流马 的是哪一个生肖?   \n",
      "7               w1                8          视频中提到的悟出的道理是 只要怎么样 就会相见?   \n",
      "\n",
      "  response correct_answer  is_correct   rt  \n",
      "0        a              a        True  598  \n",
      "1        a              b       False  517  \n",
      "2        a              d       False  154  \n",
      "3        a              a        True  426  \n",
      "4        a              c       False  208  \n",
      "5        a              d       False   74  \n",
      "6        a              d       False  118  \n",
      "7        a              e       False  175  \n"
     ]
    }
   ],
   "source": [
    "result_df = pd.read_csv('participants_results.csv')\n",
    "print(result_df)"
   ]
  },
  {
   "cell_type": "code",
   "execution_count": null,
   "metadata": {},
   "outputs": [
    {
     "name": "stdout",
     "output_type": "stream",
     "text": [
      "                  correct_count  total_questions  total_response_time_ms  \\\n",
      "participant_name                                                           \n",
      "w1                            2                8                    2270   \n",
      "\n",
      "                  accuracy_percentage  \n",
      "participant_name                       \n",
      "w1                               25.0  \n"
     ]
    }
   ],
   "source": [
    "def calculate_participant_stats(df):\n",
    "    df['rt'] = pd.to_numeric(df['rt'])\n",
    "    \n",
    "    stats = df.groupby('participant_name').agg(\n",
    "        correct_count=('is_correct', 'sum'),\n",
    "        total_questions=('is_correct', 'count'),\n",
    "        total_response_time_ms=('rt', 'sum')\n",
    "    )\n",
    "    stats['accuracy_percentage'] = (stats['correct_count'] / stats['total_questions'] * 100).round(2)\n",
    "    \n",
    "    return stats\n",
    "\n",
    "participant_stats = calculate_participant_stats(result_df)\n",
    "\n",
    "print(participant_stats)\n",
    "\n",
    "# participant_stats.to_csv('participant_summary.csv')"
   ]
  },
  {
   "cell_type": "code",
   "execution_count": null,
   "metadata": {},
   "outputs": [],
   "source": []
  },
  {
   "cell_type": "code",
   "execution_count": null,
   "metadata": {},
   "outputs": [],
   "source": []
  }
 ],
 "metadata": {
  "kernelspec": {
   "display_name": "cogs219",
   "language": "python",
   "name": "python3"
  },
  "language_info": {
   "codemirror_mode": {
    "name": "ipython",
    "version": 3
   },
   "file_extension": ".py",
   "mimetype": "text/x-python",
   "name": "python",
   "nbconvert_exporter": "python",
   "pygments_lexer": "ipython3",
   "version": "3.8.20"
  }
 },
 "nbformat": 4,
 "nbformat_minor": 2
}
