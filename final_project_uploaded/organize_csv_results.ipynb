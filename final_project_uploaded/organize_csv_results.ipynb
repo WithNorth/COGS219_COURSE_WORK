{
 "cells": [
  {
   "cell_type": "code",
   "execution_count": 11,
   "metadata": {},
   "outputs": [],
   "source": [
    "import pandas as pd\n",
    "import numpy as np"
   ]
  },
  {
   "cell_type": "code",
   "execution_count": 12,
   "metadata": {},
   "outputs": [
    {
     "name": "stdout",
     "output_type": "stream",
     "text": [
      "   participant_name  question_number  \\\n",
      "0               tyr                1   \n",
      "1               tyr                2   \n",
      "2               tyr                3   \n",
      "3               tyr                4   \n",
      "4               tyr                5   \n",
      "5               tyr                6   \n",
      "6               tyr                7   \n",
      "7               tyr                8   \n",
      "8                ww                1   \n",
      "9                ww                2   \n",
      "10               ww                3   \n",
      "11               ww                4   \n",
      "12               ww                5   \n",
      "13               ww                6   \n",
      "14               ww                7   \n",
      "15               ww                8   \n",
      "\n",
      "                                             question response correct_answer  \\\n",
      "0                                       他们见到的第一位生肖是谁?        a              a   \n",
      "1                                   这里面介绍的人物中没有哪一个职业?        a              b   \n",
      "2                    仓库寻道这个游戏中，要求是几分钟内找到道(那一颗需要收集的球)?        a              d   \n",
      "3                                   人猪说它之前都是靠什么来过日子的?        a              a   \n",
      "4                                     视频中曾解开的一次密码是什么?        a              c   \n",
      "5                                     以下选项中没有出现过的游戏是?        a              d   \n",
      "6                                  掌管游戏 木牛流马 的是哪一个生肖?        a              d   \n",
      "7                            视频中提到的悟出的道理是 只要怎么样 就会相见?        a              e   \n",
      "8                  Who was the first zodiac they met?        a              a   \n",
      "9   Which profession is not included among the cha...        b              b   \n",
      "10  In the game \"Warehouse Search\", how many minut...        d              d   \n",
      "11  The Mortal Pig said what did it rely on to sur...        a              a   \n",
      "12  What was the code (password) that was solved i...        c              c   \n",
      "13  Which of the following games does not appear i...        d              d   \n",
      "14   Which zodiac is in charge of the game Wooden Ox?        d              d   \n",
      "15  The truth mentioned in the video is that as lo...        e              e   \n",
      "\n",
      "    is_correct    rt  \n",
      "0         True  1358  \n",
      "1        False   658  \n",
      "2        False   604  \n",
      "3         True   216  \n",
      "4        False   288  \n",
      "5        False   259  \n",
      "6        False   185  \n",
      "7        False   190  \n",
      "8         True  6976  \n",
      "9         True  3036  \n",
      "10        True  2045  \n",
      "11        True  5946  \n",
      "12        True  4626  \n",
      "13        True  4104  \n",
      "14        True  2764  \n",
      "15        True  1940  \n"
     ]
    }
   ],
   "source": [
    "result_df = pd.read_csv('participants_results.csv')\n",
    "print(result_df)"
   ]
  },
  {
   "cell_type": "code",
   "execution_count": 13,
   "metadata": {},
   "outputs": [
    {
     "data": {
      "text/plain": [
       "0                                         他们见到的第一位生肖是谁?\n",
       "1                                     这里面介绍的人物中没有哪一个职业?\n",
       "2                      仓库寻道这个游戏中，要求是几分钟内找到道(那一颗需要收集的球)?\n",
       "3                                     人猪说它之前都是靠什么来过日子的?\n",
       "4                                       视频中曾解开的一次密码是什么?\n",
       "5                                       以下选项中没有出现过的游戏是?\n",
       "6                                    掌管游戏 木牛流马 的是哪一个生肖?\n",
       "7                              视频中提到的悟出的道理是 只要怎么样 就会相见?\n",
       "8                    Who was the first zodiac they met?\n",
       "9     Which profession is not included among the cha...\n",
       "10    In the game \"Warehouse Search\", how many minut...\n",
       "11    The Mortal Pig said what did it rely on to sur...\n",
       "12    What was the code (password) that was solved i...\n",
       "13    Which of the following games does not appear i...\n",
       "14     Which zodiac is in charge of the game Wooden Ox?\n",
       "15    The truth mentioned in the video is that as lo...\n",
       "Name: question, dtype: object"
      ]
     },
     "execution_count": 13,
     "metadata": {},
     "output_type": "execute_result"
    }
   ],
   "source": [
    "result_df['question']"
   ]
  },
  {
   "cell_type": "code",
   "execution_count": 10,
   "metadata": {},
   "outputs": [
    {
     "name": "stdout",
     "output_type": "stream",
     "text": [
      "                  correct_count  total_questions  total_response_time_ms  \\\n",
      "participant_name                                                           \n",
      "tyr                           2                8                    3758   \n",
      "ww                            8                8                   31437   \n",
      "\n",
      "                  accuracy_percentage  \n",
      "participant_name                       \n",
      "tyr                              25.0  \n",
      "ww                              100.0  \n"
     ]
    }
   ],
   "source": [
    "def calculate_participant_stats(df):\n",
    "    df['rt'] = pd.to_numeric(df['rt'])\n",
    "    \n",
    "    stats = df.groupby('participant_name').agg(\n",
    "        correct_count=('is_correct', 'sum'),\n",
    "        total_questions=('is_correct', 'count'),\n",
    "        total_response_time_ms=('rt', 'sum')\n",
    "    )\n",
    "    stats['accuracy_percentage'] = (stats['correct_count'] / stats['total_questions'] * 100).round(2)\n",
    "    \n",
    "    return stats\n",
    "\n",
    "participant_stats = calculate_participant_stats(result_df)\n",
    "\n",
    "print(participant_stats)\n",
    "\n",
    "# participant_stats.to_csv('participant_summary.csv')"
   ]
  },
  {
   "cell_type": "code",
   "execution_count": null,
   "metadata": {},
   "outputs": [],
   "source": []
  },
  {
   "cell_type": "code",
   "execution_count": null,
   "metadata": {},
   "outputs": [],
   "source": []
  }
 ],
 "metadata": {
  "kernelspec": {
   "display_name": "cogs219",
   "language": "python",
   "name": "python3"
  },
  "language_info": {
   "codemirror_mode": {
    "name": "ipython",
    "version": 3
   },
   "file_extension": ".py",
   "mimetype": "text/x-python",
   "name": "python",
   "nbconvert_exporter": "python",
   "pygments_lexer": "ipython3",
   "version": "3.8.20"
  }
 },
 "nbformat": 4,
 "nbformat_minor": 2
}
